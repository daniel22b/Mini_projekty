{
 "cells": [
  {
   "cell_type": "code",
   "execution_count": 1,
   "metadata": {},
   "outputs": [],
   "source": [
    "import pandas as pd\n",
    "from pandas import Series, DataFrame\n",
    "import numpy as np\n",
    "import csv\n",
    "import sys"
   ]
  },
  {
   "cell_type": "code",
   "execution_count": 2,
   "metadata": {},
   "outputs": [
    {
     "name": "stdout",
     "output_type": "stream",
     "text": [
      "   x  y  z\n",
      "a  0  1  2\n",
      "b  3  4  5\n",
      "c  6  7  8\n",
      "a    1\n",
      "b    4\n",
      "c    7\n",
      "Name: y, dtype: int64\n"
     ]
    },
    {
     "data": {
      "text/html": [
       "<div>\n",
       "<style scoped>\n",
       "    .dataframe tbody tr th:only-of-type {\n",
       "        vertical-align: middle;\n",
       "    }\n",
       "\n",
       "    .dataframe tbody tr th {\n",
       "        vertical-align: top;\n",
       "    }\n",
       "\n",
       "    .dataframe thead th {\n",
       "        text-align: right;\n",
       "    }\n",
       "</style>\n",
       "<table border=\"1\" class=\"dataframe\">\n",
       "  <thead>\n",
       "    <tr style=\"text-align: right;\">\n",
       "      <th></th>\n",
       "      <th>min</th>\n",
       "      <th>max</th>\n",
       "    </tr>\n",
       "  </thead>\n",
       "  <tbody>\n",
       "    <tr>\n",
       "      <th>a</th>\n",
       "      <td>0</td>\n",
       "      <td>2</td>\n",
       "    </tr>\n",
       "    <tr>\n",
       "      <th>b</th>\n",
       "      <td>3</td>\n",
       "      <td>5</td>\n",
       "    </tr>\n",
       "    <tr>\n",
       "      <th>c</th>\n",
       "      <td>6</td>\n",
       "      <td>8</td>\n",
       "    </tr>\n",
       "  </tbody>\n",
       "</table>\n",
       "</div>"
      ],
      "text/plain": [
       "   min  max\n",
       "a    0    2\n",
       "b    3    5\n",
       "c    6    8"
      ]
     },
     "execution_count": 2,
     "metadata": {},
     "output_type": "execute_result"
    }
   ],
   "source": [
    "df = pd.DataFrame(np.arange(9).reshape(3,3), index=list('abc'), columns=list('xyz'))\n",
    "series = df['y']\n",
    "print(df)\n",
    "print(series)\n",
    "\n",
    "def f2(x: pd.Series)-> pd.Series:\n",
    "    return pd.Series([x.min(), x.max()], index=['min','max'])\n",
    "\n",
    "x = df.apply(f2, axis='columns')\n",
    "x"
   ]
  },
  {
   "cell_type": "code",
   "execution_count": null,
   "metadata": {},
   "outputs": [
    {
     "name": "stdout",
     "output_type": "stream",
     "text": [
      "a    2.00\n",
      "b    2.00\n",
      "c    2.00\n",
      "Name: y, dtype: object\n",
      "        x       y        z\n",
      "a  3.0000  2.0000   7.0000\n",
      "b  6.0000  2.0000  10.0000\n",
      "c  9.0000  2.0000  13.0000\n"
     ]
    }
   ],
   "source": [
    "def my_format(x:float) -> str:\n",
    "    return f\"{x:.2f}\"\n",
    "\n",
    "def my_format2(x:float) -> str:\n",
    "    return f\"{x:.4f}\"\n",
    "\n",
    "x = df['y'].map(my_format)#SERIES\n",
    "y = df.map(my_format2)#DATA FRAME\n",
    "\n",
    "print(x)\n",
    "print(y)"
   ]
  },
  {
   "cell_type": "code",
   "execution_count": 55,
   "metadata": {},
   "outputs": [
    {
     "name": "stdout",
     "output_type": "stream",
     "text": [
      "    x  y   z\n",
      "a   9  2  17\n",
      "b  12  2  20\n",
      "c  15  2  23\n"
     ]
    }
   ],
   "source": [
    "def my_func(s: pd.Series) -> pd.Series:\n",
    "    return s+s.iloc[1]  \n",
    "x = df.apply(my_func, axis=0)  \n",
    "x['y'] = np.nan\n",
    "df = x.fillna(2).astype(int)\n",
    "print(df)\n",
    "\n"
   ]
  },
  {
   "cell_type": "code",
   "execution_count": 62,
   "metadata": {},
   "outputs": [
    {
     "name": "stdout",
     "output_type": "stream",
     "text": [
      "a    1\n",
      "b    3\n",
      "c    0\n",
      "d    2\n",
      "dtype: int64\n"
     ]
    }
   ],
   "source": [
    "obj = pd.Series(range(4), index = list('cadb'))\n",
    "x= obj.sort_index()\n",
    "print(x)"
   ]
  },
  {
   "cell_type": "code",
   "execution_count": 80,
   "metadata": {},
   "outputs": [
    {
     "name": "stdout",
     "output_type": "stream",
     "text": [
      "   three  one  two\n",
      "c      9    0    6\n",
      "b      0    6    1\n",
      "a      1    7    8\n",
      "   three  one  two\n",
      "c      0    0    1\n",
      "b      1    6    6\n",
      "a      9    7    8\n"
     ]
    }
   ],
   "source": [
    "df = pd.DataFrame(np.random.randint(0,10,(3,3)), index=list('cba'), columns=['three','one','two'])\n",
    "# df = df.sort_index(axis='index')\n",
    "# df = df.sort_index(axis='index', ascending=False)\n",
    "print(df)\n",
    "def sortx(x:pd.Series) ->pd.Series:\n",
    "    return x.sort_values()\n",
    "\n",
    "objx = df.apply(sorted,axis='index')\n",
    "print(objx)\n",
    "\n",
    "# obj = pd.Series([3,-1,-3,0])\n",
    "# obj = obj.sort_values()\n",
    "# print(obj)\n"
   ]
  },
  {
   "cell_type": "code",
   "execution_count": null,
   "metadata": {},
   "outputs": [
    {
     "data": {
      "text/plain": [
       "0    6.5\n",
       "1    1.0\n",
       "2    4.5\n",
       "3    4.5\n",
       "4    3.0\n",
       "5    2.0\n",
       "6    6.5\n",
       "dtype: float64"
      ]
     },
     "execution_count": 86,
     "metadata": {},
     "output_type": "execute_result"
    }
   ],
   "source": [
    "obj = pd.Series([7,-5,4,4,2,0,7])\n",
    "obj = obj.rank()\n",
    "obj = obj.rank(method='first')\n",
    "obj = obj.rank(ascending=False)"
   ]
  },
  {
   "cell_type": "code",
   "execution_count": 8,
   "metadata": {},
   "outputs": [
    {
     "name": "stdout",
     "output_type": "stream",
     "text": [
      "    A   B   C   D\n",
      "a  44  36  30  21\n",
      "b  22  11  13  10\n",
      "c  17  43  36  47\n",
      "d  30  34  49  39\n",
      "e  35  32  32  48\n",
      "    A   B     C   D\n",
      "a  44  36   900  21\n",
      "b  22  -1   169  -1\n",
      "c  -1  43  1296  47\n",
      "d  30  34  2401  39\n",
      "e  35  32  1024  48\n",
      "    A   B     C   D kategoria\n",
      "a  44  36   900  21         X\n",
      "b  22  -1   169  -1         Y\n",
      "c  -1  43  1296  47         X\n",
      "d  30  34  2401  39         Y\n",
      "e  35  32  1024  48         Y\n"
     ]
    }
   ],
   "source": [
    "#ZADANIE 1.\n",
    "rng = np.random.default_rng(seed=0)\n",
    "dfq = pd.DataFrame(rng.integers(10,51,(5,4)), index=list('abcde'), columns=['A','B','C','D'])\n",
    "print(dfq)\n",
    "#ZADANIE 2.\n",
    "col_b = dfq['B']\n",
    "row_b = dfq.loc[['b','d']]\n",
    "\n",
    "element = dfq.iloc[1,2]\n",
    "\n",
    "dfq['C'] = dfq['C']**2 \n",
    "\n",
    "\n",
    "#ZADANIE 3.\n",
    "\n",
    "\n",
    "mask = dfq[dfq['A']>30]\n",
    "\n",
    "\n",
    "dfq[dfq<20] = np.nan\n",
    "dfq = dfq.fillna(-1).astype(int)\n",
    "print(dfq)\n",
    "\n",
    "#ZADANIE 4.\n",
    "\n",
    "def random_coince(x):\n",
    "    lista = ['X','Y']\n",
    "    return np.random.choice(lista)\n",
    "\n",
    "dfq['kategoria'] = dfq.apply(random_coince, axis='columns') \n",
    "# df[\"Kategoria\"] = np.random.choice([\"X\", \"Y\"], size=len(df))\n",
    "# avg_D = df.groupby(\"Kategoria\")[\"D\"].mean()\n",
    "\n",
    "print(dfq)\n",
    "\n"
   ]
  },
  {
   "cell_type": "code",
   "execution_count": null,
   "metadata": {},
   "outputs": [
    {
     "name": "stdout",
     "output_type": "stream",
     "text": [
      "[[ 0  2  4  6  8]\n",
      " [10 12 14 16 18]\n",
      " [20 22 24 26 28]\n",
      " [30 32 34 36 38]\n",
      " [40 42 44 46 48]]\n",
      "100\n"
     ]
    }
   ],
   "source": [
    "matrix = np.arange(25).reshape(5,5)\n",
    "matrix_to_vecotr = matrix.reshape(1,25)\n",
    "matrix = matrix*2\n",
    "above_15 = matrix[matrix>15]\n",
    "matrix_mean = np.mean(matrix)\n",
    "sum_of_matrxi = np.sum(matrix[:,0])\n",
    "\n"
   ]
  },
  {
   "cell_type": "code",
   "execution_count": 43,
   "metadata": {},
   "outputs": [
    {
     "data": {
      "text/plain": [
       "np.float64(0.0001)"
      ]
     },
     "execution_count": 43,
     "metadata": {},
     "output_type": "execute_result"
    }
   ],
   "source": [
    "price = pd.read_pickle(\"przykłady/yahoo_ceny.pkl\")\n",
    "\n",
    "volume = pd.read_pickle(\"przykłady/yahoo_liczby.pkl\")\n",
    "\n",
    "returns = price.pct_change()\n",
    "returns.tail()\n",
    "\n",
    "returns['GOOG'].corr(returns['IBM'])\n",
    "returns['GOOG'].cov(returns['IBM']).round(4)\n",
    "\n",
    "# returns.corr()\n",
    "\n",
    "# returns.cov()\n",
    "\n",
    "\n"
   ]
  },
  {
   "cell_type": "code",
   "execution_count": 96,
   "metadata": {},
   "outputs": [
    {
     "data": {
      "text/plain": [
       "a    4\n",
       "c    3\n",
       "b    2\n",
       "Name: count, dtype: int64"
      ]
     },
     "execution_count": 96,
     "metadata": {},
     "output_type": "execute_result"
    }
   ],
   "source": [
    "obj = pd.Series(['a','b','c','a','a','a','c','c','b'])\n",
    "\n",
    "unique_values = obj.unique()\n",
    "obj_counts = obj.value_counts()\n",
    "\n",
    "indices = pd.Index(unique_values).get_indexer(obj)\n",
    "obj_counts\n",
    "\n"
   ]
  },
  {
   "cell_type": "code",
   "execution_count": null,
   "metadata": {},
   "outputs": [
    {
     "data": {
      "text/plain": [
       "1    4\n",
       "5    4\n",
       "3    2\n",
       "2    1\n",
       "4    1\n",
       "Name: count, dtype: int64"
      ]
     },
     "execution_count": 95,
     "metadata": {},
     "output_type": "execute_result"
    }
   ],
   "source": [
    "data = pd.DataFrame({\"A\":[1,5,1,5],\n",
    "                     \"B\":[3,2,3,4],\n",
    "                     \"C\":[1,5,1,5]})\n",
    "\n",
    "\n",
    "data[\"B\"].value_counts()\n",
    "\n",
    "# data[data >2] = np.nan\n",
    "# data = data.fillna(0)\n",
    "\n",
    "data.value_counts()\n",
    "\n",
    "# df = pd.DataFrame(data)\n",
    "# df = df.fillna(\"X\")\n",
    "\n",
    "result = data.stack().value_counts()\n",
    "result\n",
    "\n"
   ]
  },
  {
   "cell_type": "code",
   "execution_count": 2,
   "metadata": {},
   "outputs": [
    {
     "data": {
      "text/html": [
       "<div>\n",
       "<style scoped>\n",
       "    .dataframe tbody tr th:only-of-type {\n",
       "        vertical-align: middle;\n",
       "    }\n",
       "\n",
       "    .dataframe tbody tr th {\n",
       "        vertical-align: top;\n",
       "    }\n",
       "\n",
       "    .dataframe thead th {\n",
       "        text-align: right;\n",
       "    }\n",
       "</style>\n",
       "<table border=\"1\" class=\"dataframe\">\n",
       "  <thead>\n",
       "    <tr style=\"text-align: right;\">\n",
       "      <th></th>\n",
       "      <th>ID</th>\n",
       "      <th>Name</th>\n",
       "      <th>Age</th>\n",
       "      <th>Score</th>\n",
       "      <th>City</th>\n",
       "      <th>Passed</th>\n",
       "    </tr>\n",
       "  </thead>\n",
       "  <tbody>\n",
       "    <tr>\n",
       "      <th>0</th>\n",
       "      <td>1</td>\n",
       "      <td>Anna</td>\n",
       "      <td>25</td>\n",
       "      <td>88.500</td>\n",
       "      <td>NY</td>\n",
       "      <td>True</td>\n",
       "    </tr>\n",
       "    <tr>\n",
       "      <th>1</th>\n",
       "      <td>2</td>\n",
       "      <td>Bob</td>\n",
       "      <td>30</td>\n",
       "      <td>85.125</td>\n",
       "      <td>LA</td>\n",
       "      <td>True</td>\n",
       "    </tr>\n",
       "    <tr>\n",
       "      <th>2</th>\n",
       "      <td>3</td>\n",
       "      <td>Cecilia</td>\n",
       "      <td>22</td>\n",
       "      <td>92.000</td>\n",
       "      <td>NY</td>\n",
       "      <td>True</td>\n",
       "    </tr>\n",
       "    <tr>\n",
       "      <th>3</th>\n",
       "      <td>4</td>\n",
       "      <td>David</td>\n",
       "      <td>35</td>\n",
       "      <td>75.000</td>\n",
       "      <td>CHI</td>\n",
       "      <td>False</td>\n",
       "    </tr>\n",
       "    <tr>\n",
       "      <th>4</th>\n",
       "      <td>5</td>\n",
       "      <td>Eva</td>\n",
       "      <td>28</td>\n",
       "      <td>85.125</td>\n",
       "      <td>LA</td>\n",
       "      <td>True</td>\n",
       "    </tr>\n",
       "    <tr>\n",
       "      <th>5</th>\n",
       "      <td>6</td>\n",
       "      <td>Frank</td>\n",
       "      <td>40</td>\n",
       "      <td>85.000</td>\n",
       "      <td>NY</td>\n",
       "      <td>True</td>\n",
       "    </tr>\n",
       "  </tbody>\n",
       "</table>\n",
       "</div>"
      ],
      "text/plain": [
       "   ID     Name  Age   Score City  Passed\n",
       "0   1     Anna   25  88.500   NY    True\n",
       "1   2      Bob   30  85.125   LA    True\n",
       "2   3  Cecilia   22  92.000   NY    True\n",
       "3   4    David   35  75.000  CHI   False\n",
       "4   5      Eva   28  85.125   LA    True\n",
       "5   6    Frank   40  85.000   NY    True"
      ]
     },
     "execution_count": 2,
     "metadata": {},
     "output_type": "execute_result"
    }
   ],
   "source": [
    "df = pd.DataFrame({\"ID\":(range(1,7)),\n",
    "                \"Name\":[\"Anna\", \"Bob\", \"Cecilia\",\"David\",\"Eva\",\"Frank\"],\n",
    "                \"Age\":[25,30,22,35,28,40],\n",
    "                \"Score\":[88.5, np.nan, 92.0, 75.0, np.nan, 85.0],\n",
    "                \"City\":[\"NY\", \"LA\", \"NY\", \"CHI\", \"LA\", \"NY\"]},columns=[\"ID\",\"Name\",\"Age\",\"Score\",\"City\"])\n",
    "\n",
    "age_abowe = df[df[\"Age\"]>28]\n",
    "x = age_abowe[\"Name\"]\n",
    "y = age_abowe[\"Score\"]\n",
    "#df[df[\"Age\"]>28][[\"Name\",\"Score\"]]\n",
    "\n",
    "\n",
    "df[\"Score\"] = df[\"Score\"].fillna(np.mean(df[\"Score\"]))\n",
    "#df[\"Score\"].fillna(df[\"Score\"].mean(), inplace=True)\n",
    "\n",
    "avg_scores = df.groupby(\"City\")[[\"Age\", \"Score\"]].mean()\n",
    "df[\"Passed\"] = df[\"Score\"]>=80\n",
    "df"
   ]
  },
  {
   "cell_type": "code",
   "execution_count": 15,
   "metadata": {},
   "outputs": [
    {
     "data": {
      "text/html": [
       "<div>\n",
       "<style scoped>\n",
       "    .dataframe tbody tr th:only-of-type {\n",
       "        vertical-align: middle;\n",
       "    }\n",
       "\n",
       "    .dataframe tbody tr th {\n",
       "        vertical-align: top;\n",
       "    }\n",
       "\n",
       "    .dataframe thead th {\n",
       "        text-align: right;\n",
       "    }\n",
       "</style>\n",
       "<table border=\"1\" class=\"dataframe\">\n",
       "  <thead>\n",
       "    <tr style=\"text-align: right;\">\n",
       "      <th></th>\n",
       "      <th>a</th>\n",
       "      <th>b</th>\n",
       "      <th>c</th>\n",
       "      <th>d</th>\n",
       "    </tr>\n",
       "    <tr>\n",
       "      <th>message</th>\n",
       "      <th></th>\n",
       "      <th></th>\n",
       "      <th></th>\n",
       "      <th></th>\n",
       "    </tr>\n",
       "  </thead>\n",
       "  <tbody>\n",
       "    <tr>\n",
       "      <th>hello</th>\n",
       "      <td>1</td>\n",
       "      <td>2</td>\n",
       "      <td>3</td>\n",
       "      <td>4</td>\n",
       "    </tr>\n",
       "    <tr>\n",
       "      <th>world</th>\n",
       "      <td>5</td>\n",
       "      <td>6</td>\n",
       "      <td>7</td>\n",
       "      <td>8</td>\n",
       "    </tr>\n",
       "    <tr>\n",
       "      <th>foo</th>\n",
       "      <td>9</td>\n",
       "      <td>10</td>\n",
       "      <td>11</td>\n",
       "      <td>12</td>\n",
       "    </tr>\n",
       "  </tbody>\n",
       "</table>\n",
       "</div>"
      ],
      "text/plain": [
       "         a   b   c   d\n",
       "message               \n",
       "hello    1   2   3   4\n",
       "world    5   6   7   8\n",
       "foo      9  10  11  12"
      ]
     },
     "execution_count": 15,
     "metadata": {},
     "output_type": "execute_result"
    }
   ],
   "source": [
    "#!cat przykłady/ex1.csv\n",
    "names = ['a','b','c','d','message']\n",
    "df = pd.read_csv('przykłady/ex2.csv', names=names, index_col='message')\n",
    "df\n"
   ]
  },
  {
   "cell_type": "code",
   "execution_count": 20,
   "metadata": {},
   "outputs": [
    {
     "data": {
      "text/html": [
       "<div>\n",
       "<style scoped>\n",
       "    .dataframe tbody tr th:only-of-type {\n",
       "        vertical-align: middle;\n",
       "    }\n",
       "\n",
       "    .dataframe tbody tr th {\n",
       "        vertical-align: top;\n",
       "    }\n",
       "\n",
       "    .dataframe thead th {\n",
       "        text-align: right;\n",
       "    }\n",
       "</style>\n",
       "<table border=\"1\" class=\"dataframe\">\n",
       "  <thead>\n",
       "    <tr style=\"text-align: right;\">\n",
       "      <th></th>\n",
       "      <th>something</th>\n",
       "      <th>a</th>\n",
       "      <th>b</th>\n",
       "      <th>c</th>\n",
       "      <th>d</th>\n",
       "      <th>message</th>\n",
       "    </tr>\n",
       "  </thead>\n",
       "  <tbody>\n",
       "    <tr>\n",
       "      <th>0</th>\n",
       "      <td>one</td>\n",
       "      <td>1</td>\n",
       "      <td>2</td>\n",
       "      <td>3.0</td>\n",
       "      <td>NaN</td>\n",
       "      <td>NaN</td>\n",
       "    </tr>\n",
       "    <tr>\n",
       "      <th>1</th>\n",
       "      <td>two</td>\n",
       "      <td>5</td>\n",
       "      <td>6</td>\n",
       "      <td>NaN</td>\n",
       "      <td>8.0</td>\n",
       "      <td>world</td>\n",
       "    </tr>\n",
       "    <tr>\n",
       "      <th>2</th>\n",
       "      <td>three</td>\n",
       "      <td>9</td>\n",
       "      <td>10</td>\n",
       "      <td>11.0</td>\n",
       "      <td>12.0</td>\n",
       "      <td>foo</td>\n",
       "    </tr>\n",
       "  </tbody>\n",
       "</table>\n",
       "</div>"
      ],
      "text/plain": [
       "  something  a   b     c     d message\n",
       "0       one  1   2   3.0   NaN     NaN\n",
       "1       two  5   6   NaN   8.0   world\n",
       "2     three  9  10  11.0  12.0     foo"
      ]
     },
     "execution_count": 20,
     "metadata": {},
     "output_type": "execute_result"
    }
   ],
   "source": [
    "#!cat przykłady/csv_mindex.csv\n",
    "parsed = pd.read_csv('przykłady/csv_mindex.csv', index_col=['key1','key2'])\n",
    "parsed\n",
    "\n",
    "result = pd.read_csv(\"przykłady/ex5.csv\", na_values=[4])\n",
    "result\n",
    "\n"
   ]
  },
  {
   "cell_type": "code",
   "execution_count": 57,
   "metadata": {},
   "outputs": [
    {
     "name": "stdout",
     "output_type": "stream",
     "text": [
      "|one|two|three|four|key\n",
      "0|0.467976300189|-0.0386485396255|-0.295344251987|-1.82472622729|L\n",
      "1|-0.358893469543|1.40445260007|0.704964644926|-0.200638304015|B\n",
      "2|-0.50184039929|0.659253707223|-0.421690619312|-0.0576883018364|G\n"
     ]
    },
    {
     "data": {
      "text/plain": [
       "key\n",
       "E    368.0\n",
       "X    364.0\n",
       "L    346.0\n",
       "O    343.0\n",
       "Q    340.0\n",
       "M    338.0\n",
       "J    337.0\n",
       "F    335.0\n",
       "K    334.0\n",
       "H    330.0\n",
       "dtype: float64"
      ]
     },
     "execution_count": 57,
     "metadata": {},
     "output_type": "execute_result"
    }
   ],
   "source": [
    "pd.options.display.max_rows = 20\n",
    "result = pd.read_csv(\"przykłady/ex6.csv\", nrows=3)\n",
    "# result.to_csv(\"jakis_plik.csv\")\n",
    "result.to_csv(sys.stdout, sep= '|')\n",
    "\n",
    "\n",
    "\n",
    "chunker = pd.read_csv(\"przykłady/ex6.csv\", chunksize=1000)\n",
    "tot = pd.Series([],dtype='int64')\n",
    "for piece in chunker:\n",
    "    tot = tot.add(piece['key'].value_counts(), fill_value=0)\n",
    "tot = tot.sort_values(ascending=False)\n",
    "\n",
    "tot[:10]\n"
   ]
  },
  {
   "cell_type": "code",
   "execution_count": 39,
   "metadata": {},
   "outputs": [
    {
     "name": "stdout",
     "output_type": "stream",
     "text": [
      "c\n",
      "2    3\n",
      "5    1\n",
      "8    1\n",
      "Name: count, dtype: int64\n"
     ]
    },
    {
     "data": {
      "text/html": [
       "<div>\n",
       "<style scoped>\n",
       "    .dataframe tbody tr th:only-of-type {\n",
       "        vertical-align: middle;\n",
       "    }\n",
       "\n",
       "    .dataframe tbody tr th {\n",
       "        vertical-align: top;\n",
       "    }\n",
       "\n",
       "    .dataframe thead th {\n",
       "        text-align: right;\n",
       "    }\n",
       "</style>\n",
       "<table border=\"1\" class=\"dataframe\">\n",
       "  <thead>\n",
       "    <tr style=\"text-align: right;\">\n",
       "      <th></th>\n",
       "      <th>a</th>\n",
       "      <th>b</th>\n",
       "      <th>c</th>\n",
       "    </tr>\n",
       "  </thead>\n",
       "  <tbody>\n",
       "    <tr>\n",
       "      <th>0</th>\n",
       "      <td>0</td>\n",
       "      <td>1</td>\n",
       "      <td>2</td>\n",
       "    </tr>\n",
       "    <tr>\n",
       "      <th>1</th>\n",
       "      <td>3</td>\n",
       "      <td>4</td>\n",
       "      <td>5</td>\n",
       "    </tr>\n",
       "    <tr>\n",
       "      <th>2</th>\n",
       "      <td>6</td>\n",
       "      <td>7</td>\n",
       "      <td>8</td>\n",
       "    </tr>\n",
       "    <tr>\n",
       "      <th>3</th>\n",
       "      <td>0</td>\n",
       "      <td>1</td>\n",
       "      <td>2</td>\n",
       "    </tr>\n",
       "    <tr>\n",
       "      <th>4</th>\n",
       "      <td>0</td>\n",
       "      <td>1</td>\n",
       "      <td>2</td>\n",
       "    </tr>\n",
       "  </tbody>\n",
       "</table>\n",
       "</div>"
      ],
      "text/plain": [
       "   a  b  c\n",
       "0  0  1  2\n",
       "1  3  4  5\n",
       "2  6  7  8\n",
       "3  0  1  2\n",
       "4  0  1  2"
      ]
     },
     "execution_count": 39,
     "metadata": {},
     "output_type": "execute_result"
    }
   ],
   "source": [
    "df = pd.DataFrame(np.arange(9).reshape(3,3),columns=['a','b','c'])\n",
    "df.loc[len(df)] = [0,1,2]\n",
    "df.loc[len(df)] = [0,1,2]\n",
    "x = df[\"c\"].value_counts()\n",
    "print(x)\n",
    "df"
   ]
  },
  {
   "cell_type": "code",
   "execution_count": null,
   "metadata": {},
   "outputs": [
    {
     "name": "stdout",
     "output_type": "stream",
     "text": [
      "\"a\",\"b\",\"c\"\n",
      "\"1\",\"2\",\"3\"\n",
      "\"1\",\"2\",\"3\"\n",
      "['a', 'b', 'c']\n",
      "['1', '2', '3']\n",
      "['1', '2', '3']\n"
     ]
    }
   ],
   "source": [
    "!cat przykłady/ex7.csv\n",
    "\n",
    "f = open(\"przykłady/ex7.csv\")\n",
    "reader = csv.reader(f)\n",
    "for line in reader:\n",
    "    print(line)\n",
    "f.close()"
   ]
  },
  {
   "cell_type": "code",
   "execution_count": 2,
   "metadata": {},
   "outputs": [
    {
     "data": {
      "text/plain": [
       "{'a': ('1', '1'), 'b': ('2', '2'), 'c': ('3', '3')}"
      ]
     },
     "execution_count": 2,
     "metadata": {},
     "output_type": "execute_result"
    }
   ],
   "source": [
    "with open('przykłady/ex7.csv') as f:\n",
    "    lines = list(csv.reader(f))\n",
    "header, values = lines[0],lines[1:]\n",
    "\n",
    "data_dict = {h: v for h,v in zip(header, zip(*values))}\n",
    "data_dict\n",
    "\n",
    "\n",
    "\n",
    "\n",
    "\n",
    "\n"
   ]
  },
  {
   "cell_type": "code",
   "execution_count": 92,
   "metadata": {},
   "outputs": [
    {
     "data": {
      "text/html": [
       "<div>\n",
       "<style scoped>\n",
       "    .dataframe tbody tr th:only-of-type {\n",
       "        vertical-align: middle;\n",
       "    }\n",
       "\n",
       "    .dataframe tbody tr th {\n",
       "        vertical-align: top;\n",
       "    }\n",
       "\n",
       "    .dataframe thead th {\n",
       "        text-align: right;\n",
       "    }\n",
       "</style>\n",
       "<table border=\"1\" class=\"dataframe\">\n",
       "  <thead>\n",
       "    <tr style=\"text-align: right;\">\n",
       "      <th></th>\n",
       "      <th>Imię</th>\n",
       "      <th>Wiek</th>\n",
       "      <th>Ocena</th>\n",
       "      <th>Miasto</th>\n",
       "      <th>Stypendium</th>\n",
       "    </tr>\n",
       "  </thead>\n",
       "  <tbody>\n",
       "    <tr>\n",
       "      <th>2</th>\n",
       "      <td>Kasia</td>\n",
       "      <td>20</td>\n",
       "      <td>5.0</td>\n",
       "      <td>Gdańsk</td>\n",
       "      <td>Tak</td>\n",
       "    </tr>\n",
       "    <tr>\n",
       "      <th>0</th>\n",
       "      <td>Anna</td>\n",
       "      <td>21</td>\n",
       "      <td>4.5</td>\n",
       "      <td>Warszawa</td>\n",
       "      <td>Tak</td>\n",
       "    </tr>\n",
       "    <tr>\n",
       "      <th>4</th>\n",
       "      <td>Ola</td>\n",
       "      <td>21</td>\n",
       "      <td>4.2</td>\n",
       "      <td>Warszawa</td>\n",
       "      <td>Nie</td>\n",
       "    </tr>\n",
       "    <tr>\n",
       "      <th>1</th>\n",
       "      <td>Jan</td>\n",
       "      <td>22</td>\n",
       "      <td>3.8</td>\n",
       "      <td>Kraków</td>\n",
       "      <td>Nie</td>\n",
       "    </tr>\n",
       "    <tr>\n",
       "      <th>3</th>\n",
       "      <td>Marek</td>\n",
       "      <td>23</td>\n",
       "      <td>2.5</td>\n",
       "      <td>Wrocław</td>\n",
       "      <td>Nie</td>\n",
       "    </tr>\n",
       "  </tbody>\n",
       "</table>\n",
       "</div>"
      ],
      "text/plain": [
       "    Imię  Wiek  Ocena    Miasto Stypendium\n",
       "2  Kasia    20    5.0    Gdańsk        Tak\n",
       "0   Anna    21    4.5  Warszawa        Tak\n",
       "4    Ola    21    4.2  Warszawa        Nie\n",
       "1    Jan    22    3.8    Kraków        Nie\n",
       "3  Marek    23    2.5   Wrocław        Nie"
      ]
     },
     "execution_count": 92,
     "metadata": {},
     "output_type": "execute_result"
    }
   ],
   "source": [
    "data = {\n",
    "    \"Imię\": [\"Anna\", \"Jan\", \"Kasia\", \"Marek\", \"Ola\"],\n",
    "    \"Wiek\": [21, 22, 20, 23, 21],\n",
    "    \"Ocena\": [4.5, 3.8, 5.0, 2.5, 4.2],\n",
    "    \"Miasto\": [\"Warszawa\", \"Kraków\", \"Gdańsk\", \"Wrocław\", \"Warszawa\"]\n",
    "}\n",
    "\n",
    "df = pd.DataFrame(data)\n",
    "\n",
    "df.loc[:1]\n",
    "df['Ocena'].mean()\n",
    "df[df[\"Miasto\"] == 'Warszawa']\n",
    "df[\"Stypendium\"] = np.where(df[\"Ocena\"]>=4.5, \"Tak\", \"Nie\")\n",
    "df  =df.sort_values(by='Ocena',ascending=False)\n",
    "df\n"
   ]
  },
  {
   "cell_type": "code",
   "execution_count": null,
   "metadata": {},
   "outputs": [
    {
     "name": "stdout",
     "output_type": "stream",
     "text": [
      "<_csv.reader object at 0x7fff70658190>\n"
     ]
    }
   ],
   "source": [
    "class my_dialect(csv.Dialect):\n",
    "    lineterminator = '\\n'\n",
    "    delimiter = ';'\n",
    "    quotechar = '\"'\n",
    "    quoting = csv.QUOTE_MINIMAL\n",
    "\n",
    "f = open(\"przykłady/ex7.csv\")\n",
    "reader = csv.reader(f, dialect=my_dialect)\n",
    "f.close()\n"
   ]
  },
  {
   "cell_type": "code",
   "execution_count": 97,
   "metadata": {},
   "outputs": [],
   "source": [
    "data = {\n",
    "    \"Produkt\": [\"Laptop\", \"Telefon\", \"Telewizor\", \"Krzesło\", \"Stół\"],\n",
    "    \"Kategoria\": [\"Elektronika\", \"Elektronika\", \"Elektronika\", \"Meble\", \"Meble\"],\n",
    "    \"Cena\": [4000, 2500, 3000, 350, 800],\n",
    "    \"Sprzedane_sztuki\": [5, 8, 3, 10, 6]\n",
    "}\n",
    "\n",
    "\n",
    "df = pd.DataFrame(data)\n",
    "df[\"Przychod\"] = df[\"Cena\"] * df[\"Sprzedane_sztuki\"]\n",
    "df[\"Status\"] = np.where(df[\"Sprzedane_sztuki\"]>5 ,\"Dobrze\",\n",
    "                        np.where(df[\"Sprzedane_sztuki\"]== 5, \"srednio\", \"Zle\"))\n",
    "\n",
    "\n",
    "df[\"Przychod\"].sum()\n",
    "df[df[\"Kategoria\"]=='Elektronika']\n",
    "df =df.sort_values(by='Przychod',ascending=False)"
   ]
  },
  {
   "cell_type": "code",
   "execution_count": 14,
   "metadata": {},
   "outputs": [],
   "source": [
    "with open('mydata2.csv', 'w') as f:\n",
    "    writer = csv.writer(f, dialect=my_dialect)\n",
    "    writer.writerow(('one','two','three'))\n",
    "    writer.writerow(('1','2','3'))\n",
    "    writer.writerow(('4','5','6'))\n",
    "    writer.writerow(('7','8','9'))"
   ]
  },
  {
   "cell_type": "code",
   "execution_count": 2,
   "metadata": {},
   "outputs": [],
   "source": [
    "import pandas as pd\n",
    "from pandas import Series, DataFrame\n",
    "import numpy as np\n",
    "import csv\n",
    "import sys\n",
    "import json\n"
   ]
  },
  {
   "cell_type": "code",
   "execution_count": 3,
   "metadata": {},
   "outputs": [],
   "source": [
    "obj = \"\"\"\n",
    "{\"name\": \"Wes\",\n",
    "\"cities_lived\" : [\"Akron\", \"Menchester\", \"Dubai\"],\n",
    "\"pet\": null,\n",
    "\"siblings\": [\n",
    "{\"name\": \"Scott\", \"age\": 34,\"hobbies\" : [\"soccer\",\"video games\"]},\n",
    "{\"name\": \"Ana\", \"age\": 23, \"hobbies\" : [\"tenis\",\"tiktok\"]}\n",
    "]\n",
    "}\n",
    "\"\"\""
   ]
  },
  {
   "cell_type": "code",
   "execution_count": 4,
   "metadata": {},
   "outputs": [
    {
     "name": "stdout",
     "output_type": "stream",
     "text": [
      "name       4\n",
      "hobbies    4\n",
      "dtype: int64\n"
     ]
    }
   ],
   "source": [
    "result = json.loads(obj)\n",
    "siblings = pd.DataFrame(result['siblings'])[[\"name\",\"hobbies\"]]\n",
    "siblings = siblings.explode(\"hobbies\").count()\n",
    "# siblings = siblings.groupby(\"name\")[\"hobbies\"].count()\n",
    "print(siblings)"
   ]
  },
  {
   "cell_type": "code",
   "execution_count": 5,
   "metadata": {},
   "outputs": [
    {
     "data": {
      "text/html": [
       "<div>\n",
       "<style scoped>\n",
       "    .dataframe tbody tr th:only-of-type {\n",
       "        vertical-align: middle;\n",
       "    }\n",
       "\n",
       "    .dataframe tbody tr th {\n",
       "        vertical-align: top;\n",
       "    }\n",
       "\n",
       "    .dataframe thead th {\n",
       "        text-align: right;\n",
       "    }\n",
       "</style>\n",
       "<table border=\"1\" class=\"dataframe\">\n",
       "  <thead>\n",
       "    <tr style=\"text-align: right;\">\n",
       "      <th></th>\n",
       "      <th>name</th>\n",
       "      <th>age</th>\n",
       "    </tr>\n",
       "  </thead>\n",
       "  <tbody>\n",
       "    <tr>\n",
       "      <th>0</th>\n",
       "      <td>Scott</td>\n",
       "      <td>34</td>\n",
       "    </tr>\n",
       "    <tr>\n",
       "      <th>1</th>\n",
       "      <td>Ana</td>\n",
       "      <td>23</td>\n",
       "    </tr>\n",
       "  </tbody>\n",
       "</table>\n",
       "</div>"
      ],
      "text/plain": [
       "    name  age\n",
       "0  Scott   34\n",
       "1    Ana   23"
      ]
     },
     "execution_count": 5,
     "metadata": {},
     "output_type": "execute_result"
    }
   ],
   "source": [
    "result = json.loads(obj)\n",
    "siblings = pd.DataFrame(result[\"siblings\"], columns=[\"name\", \"age\"])\n",
    "siblings"
   ]
  },
  {
   "cell_type": "code",
   "execution_count": 5,
   "metadata": {},
   "outputs": [
    {
     "name": "stdout",
     "output_type": "stream",
     "text": [
      "[{\"a\": 1, \"b\": 2, \"c\": 3},\n",
      " {\"a\": 4, \"b\": 5, \"c\": 6},\n",
      " {\"a\": 7, \"b\": 8, \"c\": 9}]\n",
      "[{\"a\":1,\"b\":2,\"c\":3},{\"a\":4,\"b\":5,\"c\":6},{\"a\":7,\"b\":8,\"c\":9}]"
     ]
    }
   ],
   "source": [
    "!cat przykłady/example.json\n",
    "data = pd.read_json('przykłady/example.json')\n",
    "data.to_json(sys.stdout, orient=\"records\")"
   ]
  },
  {
   "cell_type": "code",
   "execution_count": null,
   "metadata": {},
   "outputs": [],
   "source": [
    "'jakis przykladowy teksy'"
   ]
  }
 ],
 "metadata": {
  "kernelspec": {
   "display_name": "base",
   "language": "python",
   "name": "python3"
  },
  "language_info": {
   "codemirror_mode": {
    "name": "ipython",
    "version": 3
   },
   "file_extension": ".py",
   "mimetype": "text/x-python",
   "name": "python",
   "nbconvert_exporter": "python",
   "pygments_lexer": "ipython3",
   "version": "3.12.8"
  }
 },
 "nbformat": 4,
 "nbformat_minor": 2
}
